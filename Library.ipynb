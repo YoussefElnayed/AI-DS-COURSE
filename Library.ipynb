{
 "cells": [
  {
   "cell_type": "code",
   "execution_count": 16,
   "metadata": {},
   "outputs": [],
   "source": [
    "class Book:\n",
    "    def __init__(self, title, author):\n",
    "        self.title = title\n",
    "        self.author = author\n",
    "        self.is_available = True\n",
    "\n",
    "    def __str__(self):\n",
    "        return f\"{self.title} by {self.author}\"\n",
    "\n"
   ]
  },
  {
   "cell_type": "code",
   "execution_count": 17,
   "metadata": {},
   "outputs": [],
   "source": [
    "class User:\n",
    "    def __init__(self, name):\n",
    "        self.name = name\n",
    "        self.books_borrowed = []\n",
    "\n",
    "    def borrow_book(self, book):\n",
    "        if book.is_available:\n",
    "            self.books_borrowed.append(book)\n",
    "            book.is_available = False\n",
    "            print(f\"{self.name} has borrowed {book.title}\")\n",
    "        else:\n",
    "            print(f\"Sorry, {book.title} is not available.\")\n",
    "\n",
    "    def return_book(self, book):\n",
    "        if book in self.books_borrowed:\n",
    "            self.books_borrowed.remove(book)\n",
    "            book.is_available = True\n",
    "            print(f\"{self.name} has returned {book.title}\")\n",
    "        else:\n",
    "            print(f\"{self.name} did not borrow {book.title}.\")\n",
    "\n"
   ]
  },
  {
   "cell_type": "code",
   "execution_count": 18,
   "metadata": {},
   "outputs": [],
   "source": [
    "class Library:\n",
    "    def __init__(self):\n",
    "        self.books = []\n",
    "        self.users = []\n",
    "\n",
    "    def add_book(self, book):\n",
    "        self.books.append(book)\n",
    "        print(f\"Added {book.title} to the library.\")\n",
    "\n",
    "    def add_user(self, user):\n",
    "        self.users.append(user)\n",
    "        print(f\"Added {user.name} to the library.\")\n",
    "\n",
    "    def display_available_books(self):\n",
    "        print(\"Available Books:\")\n",
    "        for book in self.books:\n",
    "            if book.is_available:\n",
    "                print(book)"
   ]
  },
  {
   "cell_type": "code",
   "execution_count": 21,
   "metadata": {},
   "outputs": [
    {
     "name": "stdout",
     "output_type": "stream",
     "text": [
      "Added Python Programming to the library.\n",
      "Added Data Science Basics to the library.\n",
      "Added Machine Learning to the library.\n",
      "Added Youssef to the library.\n",
      "Added Ahmed to the library.\n",
      "Available Books:\n",
      "Python Programming by John Doe\n",
      "Data Science Basics by Jane Smith\n",
      "Machine Learning by Andrew Ng\n"
     ]
    }
   ],
   "source": [
    "# Create library\n",
    "library = Library()\n",
    "\n",
    "# Create books and added it\n",
    "book1 = Book(\"Python Programming\", \"John Doe\")\n",
    "book2 = Book(\"Data Science Basics\", \"Jane Smith\")\n",
    "book3 = Book(\"Machine Learning\", \"Andrew Ng\")\n",
    "\n",
    "library.add_book(book1)\n",
    "library.add_book(book2)\n",
    "library.add_book(book3)\n",
    "\n",
    "# Create usres and added them\n",
    "user1 = User(\"Youssef\")\n",
    "user2 = User(\"Ahmed\")\n",
    "\n",
    "library.add_user(user1)\n",
    "library.add_user(user2)\n",
    "\n",
    "# display info\n",
    "\n",
    "library.display_available_books()\n"
   ]
  },
  {
   "cell_type": "code",
   "execution_count": null,
   "metadata": {},
   "outputs": [],
   "source": []
  }
 ],
 "metadata": {
  "kernelspec": {
   "display_name": "Python 3",
   "language": "python",
   "name": "python3"
  },
  "language_info": {
   "codemirror_mode": {
    "name": "ipython",
    "version": 3
   },
   "file_extension": ".py",
   "mimetype": "text/x-python",
   "name": "python",
   "nbconvert_exporter": "python",
   "pygments_lexer": "ipython3",
   "version": "3.13.2"
  }
 },
 "nbformat": 4,
 "nbformat_minor": 2
}
